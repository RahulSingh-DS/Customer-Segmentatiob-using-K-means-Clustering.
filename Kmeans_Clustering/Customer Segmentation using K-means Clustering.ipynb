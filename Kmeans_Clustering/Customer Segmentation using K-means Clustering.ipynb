{
 "cells": [
  {
   "cell_type": "code",
   "execution_count": null,
   "id": "2a541fb6-57b8-4a5e-badc-31e7a45af4b4",
   "metadata": {},
   "outputs": [],
   "source": [
    "# Importing the Libraries \n",
    "import numpy as np\n",
    "import pandas as pd\n",
    "import matplotlib.pyplot as plt\n",
    "import seaborn as sns\n",
    "from sklearn.cluster import KMeans\n",
    "from sklearn.preprocessing import StandardScaler\n",
    "# Importing the Warnings for not including the errors.\n",
    "import warnings\n",
    "warnings.filterwarnings('ignore')"
   ]
  },
  {
   "cell_type": "code",
   "execution_count": null,
   "id": "2599cf36-2f11-43a1-9a34-12f47d8c3088",
   "metadata": {},
   "outputs": [],
   "source": [
    "# Loading The DataSets \n",
    "df = pd.read_csv('customer_segmentation_data.csv')\n",
    "# Quick look at the Data\n",
    "print(df.head())\n",
    "print(df.info())\n",
    "# Provides statistical summary for numerical columns \n",
    "df.describe()"
   ]
  },
  {
   "cell_type": "code",
   "execution_count": null,
   "id": "780df9f0-b1c2-4fd6-a1a2-6c5770247fa3",
   "metadata": {},
   "outputs": [],
   "source": [
    "# Checking for missing values in the DataSet \n",
    "print(df.isnull().sum)\n"
   ]
  },
  {
   "cell_type": "code",
   "execution_count": null,
   "id": "dbd607d8-c9ce-4cf6-a5a2-aa94c0c2a93c",
   "metadata": {},
   "outputs": [],
   "source": [
    "# Dropping Unnecessary Columns \n",
    "df = df.drop(['id','preferred_category'], axis = 1)\n",
    "# Use one-hot encoding for the gender column \n",
    "df = pd.get_dummies(df, columns=['gender'],drop_first = False)\n",
    "# Checking the first few rows after encoding \n",
    "print(df.head())\n"
   ]
  },
  {
   "cell_type": "code",
   "execution_count": null,
   "id": "793a65c1-cf77-4a63-9a3b-a464ed5f81fa",
   "metadata": {},
   "outputs": [],
   "source": [
    "print(df.isnull().sum())"
   ]
  },
  {
   "cell_type": "code",
   "execution_count": null,
   "id": "43943739-cd60-4c0b-826d-7e1050acf5fa",
   "metadata": {},
   "outputs": [],
   "source": [
    "# Scale the Feature\n",
    "scaler = StandardScaler()\n",
    "df_scaled = scaler.fit_transform(df)\n"
   ]
  },
  {
   "cell_type": "code",
   "execution_count": null,
   "id": "ec984d9f-b6cb-454d-b3b9-e3e19956c9b7",
   "metadata": {},
   "outputs": [],
   "source": [
    "# Convert back to DataFrame \n",
    "df_scaled= pd.DataFrame(df_scaled,columns =df.columns)\n",
    "print(df_scaled.head())"
   ]
  },
  {
   "cell_type": "code",
   "execution_count": null,
   "id": "22c99f02-eee8-4633-8e4f-f2dbc6b2c94a",
   "metadata": {},
   "outputs": [],
   "source": [
    "# Using Elbow method to find the optional number of Clusters \n",
    "wcss = []\n",
    "for i in range(1,11):\n",
    "    kmeans = Kmeans(n_clusters = i, init = 'k-means++', max_iter = 300,n_init = 10, random_state = 42)\n",
    "    kmeans.fit(df_scaled)\n",
    "    wcss.append(kmeans.interia_)\n",
    "# Plotting the Elbow Curve \n",
    "plt.figure(figure = (0,5))\n",
    "plt.plot(range(1,11), wcss, marker = 'o', linestyle = '--')\n",
    "plt.title(\"Elbow Method\")\n",
    "plt.xlabel(\"Number of Clusters\")\n",
    "plt.ylabel(\"WCSS\")\n",
    "plt.show()\n"
   ]
  },
  {
   "cell_type": "code",
   "execution_count": null,
   "id": "576fcd8a-7710-41e0-a2bc-d4f452b94853",
   "metadata": {},
   "outputs": [],
   "source": [
    "# Applying KMeans with the optional number of clusters\n",
    "optimal_clusters = 4\n",
    "kmeans = Kmeans(n_clusters = optional_clusters, init = 'k-means++', max_iter = 300, n_init = 10, random_state = 42)\n",
    "df['clustser'] = kmeans.fit_predict(df_scaled)\n",
    "# Checking The first few rows with the cluster labels \n",
    "print(df.head())\n"
   ]
  },
  {
   "cell_type": "code",
   "execution_count": null,
   "id": "e781e4ae-55fb-450b-bdd2-a6166f7acb4c",
   "metadata": {},
   "outputs": [],
   "source": [
    "# Plotting the clusters based on 'income' and 'spending_score' \n",
    "plt.figure(figsize=(10,7))\n",
    "plt.scatter(df[df['cluster'] == 0]['income'],df[df['cluster'] == 0]['spending_score'], s = 100,c='red',label='cluster1')\n",
    "plt.scatter(df[df['cluster'] == 1]['income'],df[df['cluster'] == 1]['spending_score'], s = 100,c='blue',label='cluster2')\n",
    "plt.scatter(df[df['cluster'] == 2]['income'],df[df['cluster'] == 2]['spending_score'], s = 100,c='green',label='cluster3')\n",
    "plt.scatter(df[df['cluster'] == 3]['income'],df[df['cluster'] == 3]['spending_score'], s = 100,c='yellow',label='cluster4')\n",
    "# Plot the cluster centers \n",
    "plt.scatter(kmeans.cluster_centers_[:,1], kmeans.cluster_centers_[:,2], s =300, c = 'cyan', label = 'Centroids')\n",
    "plt.title('Customer Segmentation')\n",
    "plt.xlabel('Income')\n",
    "plt.ylabel('Spending Score')\n",
    "plt.legend()\n",
    "plt.show()\n",
    "\n"
   ]
  },
  {
   "cell_type": "code",
   "execution_count": null,
   "id": "bf79a9c6-6cb7-4db4-985c-ad73a969cf74",
   "metadata": {},
   "outputs": [],
   "source": [
    "cluster_summary = df.groupby('cluster').mean()\n",
    "print(cluster_summary)"
   ]
  },
  {
   "cell_type": "code",
   "execution_count": null,
   "id": "7bd37ec0-f215-48fa-928d-f15261b2afbb",
   "metadata": {},
   "outputs": [],
   "source": []
  }
 ],
 "metadata": {
  "kernelspec": {
   "display_name": "Python 3 (ipykernel)",
   "language": "python",
   "name": "python3"
  },
  "language_info": {
   "codemirror_mode": {
    "name": "ipython",
    "version": 3
   },
   "file_extension": ".py",
   "mimetype": "text/x-python",
   "name": "python",
   "nbconvert_exporter": "python",
   "pygments_lexer": "ipython3",
   "version": "3.12.1"
  }
 },
 "nbformat": 4,
 "nbformat_minor": 5
}
